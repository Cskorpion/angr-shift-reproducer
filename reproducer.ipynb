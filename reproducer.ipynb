{
 "cells": [
  {
   "cell_type": "code",
   "execution_count": 70,
   "id": "b63f7330",
   "metadata": {},
   "outputs": [],
   "source": [
    "import angr, claripy, archinfo"
   ]
  },
  {
   "cell_type": "code",
   "execution_count": 71,
   "id": "0d2687e2",
   "metadata": {},
   "outputs": [],
   "source": [
    "# use a branch instruction to make the basic block end after the sra\n",
    "#     beq x12, x0, 12 ; sra x27, x21, x4\n",
    "byte_code = 0x00060663_41b5d3b3.to_bytes(8, \"little\")"
   ]
  },
  {
   "cell_type": "code",
   "execution_count": 72,
   "id": "db2d1a84",
   "metadata": {},
   "outputs": [],
   "source": [
    "arch = archinfo.ArchRISCV64()"
   ]
  },
  {
   "cell_type": "code",
   "execution_count": 73,
   "id": "4a67c294",
   "metadata": {},
   "outputs": [],
   "source": [
    "# create angr project and pass our instrucitons\n",
    "# angr uses vex to lift the machine code\n",
    "project = angr.load_shellcode(byte_code, arch=arch, start_offset=0, load_address=0)\n",
    "entry_state = project.factory.entry_state()"
   ]
  },
  {
   "cell_type": "code",
   "execution_count": null,
   "id": "fdbb5fee",
   "metadata": {},
   "outputs": [
    {
     "name": "stdout",
     "output_type": "stream",
     "text": [
      "IRSB {\n",
      "   t0:Ity_I64 t1:Ity_I8 t2:Ity_I64 t3:Ity_I64 t4:Ity_I1 t5:Ity_I64 t6:Ity_I64 t7:Ity_I64\n",
      "\n",
      "   00 | ------ IMark(0x0, 4, 0) ------\n",
      "   01 | t2 = GET:I64(x27)\n",
      "   02 | t1 = 64to8(t2)\n",
      "   03 | t3 = GET:I64(x11)\n",
      "   04 | t0 = Sar64(t3,t1)\n",
      "   05 | PUT(x7) = t0\n",
      "   06 | PUT(pc) = 0x0000000000000004\n",
      "   07 | ------ IMark(0x4, 4, 0) ------\n",
      "   08 | t5 = GET:I64(x0)\n",
      "   09 | t6 = GET:I64(x12)\n",
      "   10 | t4 = CmpEQ64(t6,t5)\n",
      "   11 | if (t4) { PUT(pc) = 0x10; Ijk_Boring }\n",
      "   NEXT: PUT(pc) = 0x0000000000000008; Ijk_Boring\n",
      "}\n"
     ]
    }
   ],
   "source": [
    "## optional: print vex ir\n",
    "project.factory.block(project.entry).vex.pp()\n",
    "# one can see that x27 is cast into a 8bit value and is then used to rshift x11\n",
    "# which is wrong: only the lowest 6 bits of x27 may be used for the shift"
   ]
  },
  {
   "cell_type": "code",
   "execution_count": 75,
   "id": "25bea555",
   "metadata": {},
   "outputs": [
    {
     "name": "stderr",
     "output_type": "stream",
     "text": [
      "WARNING  | 2025-09-05 15:30:50,918 | angr.storage.memory_mixins.default_filler_mixin | Filling register x27 with 8 unconstrained bytes referenced from 0x0 (offset 0x0 in main binary (0x0))\n",
      "WARNING  | 2025-09-05 15:30:50,919 | angr.storage.memory_mixins.default_filler_mixin | Filling register x11 with 8 unconstrained bytes referenced from 0x0 (offset 0x0 in main binary (0x0))\n",
      "WARNING  | 2025-09-05 15:30:50,922 | angr.storage.memory_mixins.default_filler_mixin | Filling register x0 with 8 unconstrained bytes referenced from 0x4 (offset 0x4 in main binary (0x4))\n",
      "WARNING  | 2025-09-05 15:30:50,923 | angr.storage.memory_mixins.default_filler_mixin | Filling register x12 with 8 unconstrained bytes referenced from 0x4 (offset 0x4 in main binary (0x4))\n"
     ]
    }
   ],
   "source": [
    "simulation = project.factory.simulation_manager(entry_state)\n",
    "simulation = simulation.step()"
   ]
  },
  {
   "cell_type": "code",
   "execution_count": 78,
   "id": "b6a96f79",
   "metadata": {},
   "outputs": [
    {
     "data": {
      "text/html": [
       "reg_x11_37_64 &gt;&gt; Concat(0, Extract(7, 0, reg_x27_36_64))"
      ],
      "text/plain": [
       "reg_x11_37_64 >> Concat(0, Extract(7, 0, reg_x27_36_64))"
      ]
     },
     "execution_count": 78,
     "metadata": {},
     "output_type": "execute_result"
    }
   ],
   "source": [
    "# print register x7 as z3 formula\n",
    "claripy.backends.z3.convert(getattr(simulation.active[0].regs, \"x7\"))"
   ]
  }
 ],
 "metadata": {
  "kernelspec": {
   "display_name": "angr2",
   "language": "python",
   "name": "python3"
  },
  "language_info": {
   "codemirror_mode": {
    "name": "ipython",
    "version": 3
   },
   "file_extension": ".py",
   "mimetype": "text/x-python",
   "name": "python",
   "nbconvert_exporter": "python",
   "pygments_lexer": "ipython3",
   "version": "3.11.11"
  }
 },
 "nbformat": 4,
 "nbformat_minor": 5
}
